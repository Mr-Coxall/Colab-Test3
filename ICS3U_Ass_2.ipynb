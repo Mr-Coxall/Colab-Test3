{
  "nbformat": 4,
  "nbformat_minor": 0,
  "metadata": {
    "colab": {
      "name": "ICS3U - Ass #2.ipynb",
      "version": "0.3.2",
      "provenance": [],
      "collapsed_sections": [],
      "include_colab_link": true
    },
    "kernelspec": {
      "name": "python3",
      "display_name": "Python 3"
    }
  },
  "cells": [
    {
      "cell_type": "markdown",
      "metadata": {
        "id": "view-in-github",
        "colab_type": "text"
      },
      "source": [
        "<a href=\"https://colab.research.google.com/github/Mr-Coxall/Colab-Test3/blob/master/ICS3U_Ass_2.ipynb\" target=\"_parent\"><img src=\"https://colab.research.google.com/assets/colab-badge.svg\" alt=\"Open In Colab\"/></a>"
      ]
    },
    {
      "cell_type": "code",
      "metadata": {
        "id": "qJb1_vqYl3DZ",
        "colab_type": "code",
        "outputId": "0e8aec0b-96ae-4134-8127-9ce4919674a9",
        "colab": {
          "base_uri": "https://localhost:8080/",
          "height": 92
        }
      },
      "source": [
        "#!/usr/bin/env python3\n",
        "\n",
        "# Created by: Mr. Coxall\n",
        "# Created on: June 2019\n",
        "# This program calculates the area of a rectangle\n",
        "#     where the user gets to enter the length and width in mm\n",
        "\n",
        "import math\n",
        "\n",
        "\n",
        "def main():\n",
        "    print(\"We will be calculating the area of a rectangle. \")\n",
        "    \n",
        "    length = int(input(\"Enter the length (mm): \"))\n",
        "    width = int(input(\"Enter the width (mm): \"))\n",
        "    \n",
        "    area = length * width\n",
        "    \n",
        "    print(\"Area is {}mm²\".format(area))\n",
        "\n",
        "\n",
        "if __name__ == \"__main__\":\n",
        "    main()\n"
      ],
      "execution_count": 0,
      "outputs": [
        {
          "output_type": "stream",
          "text": [
            "We will be calculating the area of a rectangle. \n",
            "Enter the length (mm): 3\n",
            "Enter the width (mm): 5\n",
            "Area is 15mm²\n"
          ],
          "name": "stdout"
        }
      ]
    }
  ]
}